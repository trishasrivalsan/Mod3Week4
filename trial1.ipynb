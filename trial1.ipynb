{
    "cells": [
        {
            "cell_type": "markdown",
            "metadata": {},
            "source": "# My Jupyter Notebook on IBM Watson Studio"
        },
        {
            "cell_type": "markdown",
            "metadata": {},
            "source": "**Trisha S**\n<br>Consultant"
        },
        {
            "cell_type": "markdown",
            "metadata": {},
            "source": "*I am interested in data science because I believe the knowledge and ability to understand and manipulate data will facilitate a deeper understanding of any field.*\n"
        },
        {
            "cell_type": "markdown",
            "metadata": {},
            "source": "# The following code prints integers from 1 through 5.\n"
        },
        {
            "cell_type": "code",
            "execution_count": 6,
            "metadata": {},
            "outputs": [
                {
                    "name": "stdout",
                    "output_type": "stream",
                    "text": "1\n2\n3\n4\n5\n"
                }
            ],
            "source": "i = 1\nwhile (i < 6):\n    print (i)\n    i = i + 1"
        },
        {
            "cell_type": "markdown",
            "metadata": {},
            "source": " - Thank you\n - ~Come again~\n - [https://en.wikipedia.org/wiki/Smiley] \n    "
        },
        {
            "cell_type": "code",
            "execution_count": null,
            "metadata": {},
            "outputs": [],
            "source": ""
        }
    ],
    "metadata": {
        "kernelspec": {
            "display_name": "Python 3.10",
            "language": "python",
            "name": "python3"
        },
        "language_info": {
            "codemirror_mode": {
                "name": "ipython",
                "version": 3
            },
            "file_extension": ".py",
            "mimetype": "text/x-python",
            "name": "python",
            "nbconvert_exporter": "python",
            "pygments_lexer": "ipython3",
            "version": "3.10.6"
        }
    },
    "nbformat": 4,
    "nbformat_minor": 1
}